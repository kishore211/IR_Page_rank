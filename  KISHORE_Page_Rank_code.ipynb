{
 "cells": [
  {
   "cell_type": "markdown",
   "id": "b1073807",
   "metadata": {},
   "source": [
    "## PageRank"
   ]
  },
  {
   "cell_type": "code",
   "execution_count": 3,
   "id": "870dfcd4",
   "metadata": {},
   "outputs": [
    {
     "name": "stdout",
     "output_type": "stream",
     "text": [
      "%pylab is deprecated, use %matplotlib inline and import the required libraries.\n",
      "Populating the interactive namespace from numpy and matplotlib\n"
     ]
    }
   ],
   "source": [
    "%pylab notebook\n",
    "import numpy as np\n",
    "import numpy.linalg as la"
   ]
  },
  {
   "cell_type": "code",
   "execution_count": 4,
   "id": "68e5781d",
   "metadata": {},
   "outputs": [],
   "source": [
    "df = np.array([[0,   0, 0, 0, 0,   0 ,0 , 0 ,0  ],\n",
    "              [1, 0,   0,   0, 0, 0  ,0,  0, 0 ],\n",
    "              [0, 0, 0,   0, 0,  0 ,0,  0, 1],\n",
    "              [1, 1,   1, 0, 1, 1,1,  1, 0 ],\n",
    "              [0,   0,   0,   0, 0,   0 ,0,   1, 0  ],\n",
    "              [0,   0,   0, 0, 0,   0,  0,  0, 0   ],\n",
    "              [0,   0,   0, 0, 0,   0,  0,  0, 0   ],\n",
    "              [0,   0,   0, 0, 0,   0,  0,  0, 0   ],\n",
    "              [0,   0,   0, 0, 0,   0,  0,  0, 0   ],\n",
    "              \n",
    "              ])"
   ]
  },
  {
   "cell_type": "code",
   "execution_count": 11,
   "id": "d1545294",
   "metadata": {},
   "outputs": [
    {
     "data": {
      "text/plain": [
       "array([ 0.00000000e+000,  0.00000000e+000, -9.01875762e-290,\n",
       "        1.00000000e+002,  0.00000000e+000,  0.00000000e+000,\n",
       "        0.00000000e+000,  0.00000000e+000,  0.00000000e+000])"
      ]
     },
     "execution_count": 11,
     "metadata": {},
     "output_type": "execute_result"
    }
   ],
   "source": [
    "eVals, eVecs = la.eig(df) \n",
    "order = np.absolute(eVals).argsort()[::-1] \n",
    "eVals = eVals[order]\n",
    "eVecs = eVecs[:,order]\n",
    "\n",
    "df1 = eVecs[:, 0] \n",
    "100 * np.real(df1 / np.sum(df1))"
   ]
  },
  {
   "cell_type": "code",
   "execution_count": 8,
   "id": "60c8e210",
   "metadata": {},
   "outputs": [
    {
     "data": {
      "text/plain": [
       "array([11.11111111, 11.11111111, 11.11111111, 11.11111111, 11.11111111,\n",
       "       11.11111111, 11.11111111, 11.11111111, 11.11111111])"
      ]
     },
     "execution_count": 8,
     "metadata": {},
     "output_type": "execute_result"
    }
   ],
   "source": [
    "df1 = 100 * np.ones(9) / 9\n",
    "df1\n"
   ]
  },
  {
   "cell_type": "code",
   "execution_count": 9,
   "id": "8596d56f",
   "metadata": {},
   "outputs": [
    {
     "data": {
      "text/plain": [
       "array([ 0.        , 11.11111111, 11.11111111, 77.77777778, 11.11111111,\n",
       "        0.        ,  0.        ,  0.        ,  0.        ])"
      ]
     },
     "execution_count": 9,
     "metadata": {},
     "output_type": "execute_result"
    }
   ],
   "source": [
    "df1 = df @ df1 \n",
    "df1"
   ]
  },
  {
   "cell_type": "code",
   "execution_count": 17,
   "id": "f2763396",
   "metadata": {},
   "outputs": [
    {
     "name": "stdout",
     "output_type": "stream",
     "text": [
      "number of convergences\n"
     ]
    },
    {
     "data": {
      "text/plain": [
       "array([0., 0., 0., 0., 0., 0., 0., 0., 0.])"
      ]
     },
     "execution_count": 17,
     "metadata": {},
     "output_type": "execute_result"
    }
   ],
   "source": [
    "#trying convergence\n",
    "\n",
    "df1_old=df1\n",
    "df1= df @ df1\n",
    "\n",
    "i=0\n",
    "while la.norm(df1_old - df1)>0.01:\n",
    "    df1_old=df1\n",
    "    df1= df @ df1\n",
    "    i=i+1\n",
    "  \n",
    "print(\"number of convergences\")\n",
    "i \n",
    "\n",
    "df1"
   ]
  }
 ],
 "metadata": {
  "kernelspec": {
   "display_name": "Python 3.10.5 64-bit",
   "language": "python",
   "name": "python3"
  },
  "language_info": {
   "codemirror_mode": {
    "name": "ipython",
    "version": 3
   },
   "file_extension": ".py",
   "mimetype": "text/x-python",
   "name": "python",
   "nbconvert_exporter": "python",
   "pygments_lexer": "ipython3",
   "version": "3.10.5"
  },
  "vscode": {
   "interpreter": {
    "hash": "aee8b7b246df8f9039afb4144a1f6fd8d2ca17a180786b69acc140d282b71a49"
   }
  }
 },
 "nbformat": 4,
 "nbformat_minor": 5
}
