{
 "cells": [
  {
   "cell_type": "markdown",
   "id": "b1073807",
   "metadata": {},
   "source": [
    "## PageRank"
   ]
  },
  {
   "cell_type": "code",
   "execution_count": 31,
   "id": "870dfcd4",
   "metadata": {},
   "outputs": [
    {
     "name": "stdout",
     "output_type": "stream",
     "text": [
      "%pylab is deprecated, use %matplotlib inline and import the required libraries.\n",
      "Populating the interactive namespace from numpy and matplotlib\n"
     ]
    }
   ],
   "source": [
    "%pylab notebook\n",
    "import numpy as np\n",
    "import numpy.linalg as la"
   ]
  },
  {
   "cell_type": "code",
   "execution_count": 32,
   "id": "68e5781d",
   "metadata": {},
   "outputs": [],
   "source": [
    "df = np.array([[0,   0, 0, 0, 0,   0 ,0 , 0 ,0  ],\n",
    "              [1/2, 0,   0,   0, 0, 0  ,0,  0, 0 ],\n",
    "              [0, 0, 0,   0, 0,  0 ,0,  0, 1],\n",
    "              [1/2, 1/2,   1/2, 0, 1/2, 1/2,1/2,  1/2, 0 ],\n",
    "              [0,   0,   0,   0, 0,   0 ,0,   1/2, 0  ],\n",
    "              [0,   0,   0, 0, 0,   0,  0,  0, 0   ],\n",
    "              [0,   0,   0, 0, 0,   0,  0,  0, 0   ],\n",
    "              [0,   0,   0, 0, 0,   0,  0,  0, 0   ],\n",
    "              [0,   0,   0, 0, 0,   0,  0,  0, 0   ],\n",
    "              \n",
    "              ])"
   ]
  },
  {
   "cell_type": "code",
   "execution_count": 33,
   "id": "d1545294",
   "metadata": {},
   "outputs": [
    {
     "data": {
      "text/plain": [
       "array([ 0.00000000e+000,  0.00000000e+000, -1.80375152e-289,\n",
       "        1.00000000e+002,  0.00000000e+000,  0.00000000e+000,\n",
       "        0.00000000e+000,  0.00000000e+000,  0.00000000e+000])"
      ]
     },
     "execution_count": 33,
     "metadata": {},
     "output_type": "execute_result"
    }
   ],
   "source": [
    "eVals, eVecs = la.eig(df) \n",
    "order = np.absolute(eVals).argsort()[::-1] \n",
    "eVals = eVals[order]\n",
    "eVecs = eVecs[:,order]\n",
    "\n",
    "df1 = eVecs[:, 0] \n",
    "100 * np.real(df1 / np.sum(df1))"
   ]
  },
  {
   "cell_type": "code",
   "execution_count": 34,
   "id": "60c8e210",
   "metadata": {},
   "outputs": [
    {
     "data": {
      "text/plain": [
       "array([11.11111111, 11.11111111, 11.11111111, 11.11111111, 11.11111111,\n",
       "       11.11111111, 11.11111111, 11.11111111, 11.11111111])"
      ]
     },
     "execution_count": 34,
     "metadata": {},
     "output_type": "execute_result"
    }
   ],
   "source": [
    "df1 = 100 * np.ones(9) / 9\n",
    "df1\n"
   ]
  },
  {
   "cell_type": "code",
   "execution_count": 35,
   "id": "8596d56f",
   "metadata": {},
   "outputs": [
    {
     "data": {
      "text/plain": [
       "array([ 0.        ,  5.55555556, 11.11111111, 38.88888889,  5.55555556,\n",
       "        0.        ,  0.        ,  0.        ,  0.        ])"
      ]
     },
     "execution_count": 35,
     "metadata": {},
     "output_type": "execute_result"
    }
   ],
   "source": [
    "df1 = df @ df1 \n",
    "df1"
   ]
  },
  {
   "cell_type": "code",
   "execution_count": 36,
   "id": "f2763396",
   "metadata": {},
   "outputs": [
    {
     "name": "stdout",
     "output_type": "stream",
     "text": [
      "number of convergences\n"
     ]
    },
    {
     "data": {
      "text/plain": [
       "2"
      ]
     },
     "execution_count": 36,
     "metadata": {},
     "output_type": "execute_result"
    }
   ],
   "source": [
    "#trying convergence\n",
    "\n",
    "df1_old=df1\n",
    "df1= df @ df1\n",
    "\n",
    "i=0\n",
    "while la.norm(df1_old - df1)>0.01:\n",
    "    df1_old=df1\n",
    "    df1= df @ df1\n",
    "    i=i+1\n",
    "  \n",
    "print(\"number of convergences\")\n",
    "i \n"
   ]
  },
  {
   "cell_type": "code",
   "execution_count": 37,
   "id": "fbb534f9",
   "metadata": {},
   "outputs": [
    {
     "ename": "AttributeError",
     "evalue": "module 'numpy' has no attribute 'one'",
     "output_type": "error",
     "traceback": [
      "\u001b[0;31m---------------------------------------------------------------------------\u001b[0m",
      "\u001b[0;31mAttributeError\u001b[0m                            Traceback (most recent call last)",
      "Cell \u001b[0;32mIn [37], line 3\u001b[0m\n\u001b[1;32m      1\u001b[0m b\u001b[39m=\u001b[39m\u001b[39m0.5\u001b[39m\n\u001b[0;32m----> 3\u001b[0m m\u001b[39m=\u001b[39m b\u001b[39m*\u001b[39m df \u001b[39m+\u001b[39m(\u001b[39m1\u001b[39m\u001b[39m-\u001b[39mb)\u001b[39m/\u001b[39m\u001b[39m9\u001b[39m \u001b[39m*\u001b[39mnp\u001b[39m.\u001b[39;49mone([\u001b[39m9\u001b[39m,\u001b[39m9\u001b[39m]) \n\u001b[1;32m      4\u001b[0m m\n",
      "File \u001b[0;32m/Library/Frameworks/Python.framework/Versions/3.10/lib/python3.10/site-packages/numpy/__init__.py:311\u001b[0m, in \u001b[0;36m__getattr__\u001b[0;34m(attr)\u001b[0m\n\u001b[1;32m    308\u001b[0m     \u001b[39mfrom\u001b[39;00m \u001b[39m.\u001b[39;00m\u001b[39mtesting\u001b[39;00m \u001b[39mimport\u001b[39;00m Tester\n\u001b[1;32m    309\u001b[0m     \u001b[39mreturn\u001b[39;00m Tester\n\u001b[0;32m--> 311\u001b[0m \u001b[39mraise\u001b[39;00m \u001b[39mAttributeError\u001b[39;00m(\u001b[39m\"\u001b[39m\u001b[39mmodule \u001b[39m\u001b[39m{!r}\u001b[39;00m\u001b[39m has no attribute \u001b[39m\u001b[39m\"\u001b[39m\n\u001b[1;32m    312\u001b[0m                      \u001b[39m\"\u001b[39m\u001b[39m{!r}\u001b[39;00m\u001b[39m\"\u001b[39m\u001b[39m.\u001b[39mformat(\u001b[39m__name__\u001b[39m, attr))\n",
      "\u001b[0;31mAttributeError\u001b[0m: module 'numpy' has no attribute 'one'"
     ]
    }
   ],
   "source": [
    "b=0.5\n",
    "\n",
    "m= b* df +(1-b)/9 * np.ones([9,9]) \n",
    "m"
   ]
  }
 ],
 "metadata": {
  "kernelspec": {
   "display_name": "Python 3.10.5 64-bit",
   "language": "python",
   "name": "python3"
  },
  "language_info": {
   "codemirror_mode": {
    "name": "ipython",
    "version": 3
   },
   "file_extension": ".py",
   "mimetype": "text/x-python",
   "name": "python",
   "nbconvert_exporter": "python",
   "pygments_lexer": "ipython3",
   "version": "3.10.5"
  },
  "vscode": {
   "interpreter": {
    "hash": "aee8b7b246df8f9039afb4144a1f6fd8d2ca17a180786b69acc140d282b71a49"
   }
  }
 },
 "nbformat": 4,
 "nbformat_minor": 5
}
