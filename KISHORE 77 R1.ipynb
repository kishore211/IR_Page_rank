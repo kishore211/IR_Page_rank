{
 "cells": [
  {
   "cell_type": "code",
   "execution_count": 1,
   "id": "bba822b1",
   "metadata": {},
   "outputs": [],
   "source": [
    "import pandas as pd"
   ]
  },
  {
   "cell_type": "code",
   "execution_count": 3,
   "id": "fe81c5f7",
   "metadata": {},
   "outputs": [],
   "source": [
    "import matplotlib.pyplot as plt"
   ]
  },
  {
   "cell_type": "code",
   "execution_count": 4,
   "id": "c661927f",
   "metadata": {},
   "outputs": [],
   "source": [
    "import networkx as nx"
   ]
  },
  {
   "cell_type": "code",
   "execution_count": 5,
   "id": "15819010",
   "metadata": {},
   "outputs": [],
   "source": [
    "import pylab as plt"
   ]
  },
  {
   "cell_type": "code",
   "execution_count": 6,
   "id": "9c3af421",
   "metadata": {},
   "outputs": [],
   "source": [
    "import numpy as np"
   ]
  },
  {
   "cell_type": "code",
   "execution_count": 7,
   "id": "df173ac2",
   "metadata": {},
   "outputs": [],
   "source": [
    "dataframe=nx.DiGraph()"
   ]
  },
  {
   "cell_type": "code",
   "execution_count": 8,
   "id": "a07e057e",
   "metadata": {},
   "outputs": [
    {
     "name": "stdout",
     "output_type": "stream",
     "text": [
      "Nodes of graph: \n",
      "['A', 'B', 'C', 'D', 'E', 'F', 'G', 'H', 'Z']\n",
      "Edges of graph: \n",
      "[]\n"
     ]
    }
   ],
   "source": [
    "PageRank = [\"A\",\"B\",\"C\",\"D\",\"E\",\"F\",\"G\",\"H\",\"Z\"]\n",
    "dataframe.add_nodes_from(PageRank)\n",
    "\n",
    "print(\"Nodes of graph: \")\n",
    "print(dataframe.nodes())\n",
    "\n",
    "print(\"Edges of graph: \")\n",
    "print(dataframe.edges())"
   ]
  },
  {
   "cell_type": "code",
   "execution_count": 9,
   "id": "f590794c",
   "metadata": {},
   "outputs": [
    {
     "name": "stdout",
     "output_type": "stream",
     "text": [
      "Nodes of graph: \n",
      "['A', 'B', 'C', 'D', 'E', 'F', 'G', 'H', 'Z']\n",
      "Edges of graph: \n",
      "[('A', 'B'), ('A', 'D'), ('B', 'D'), ('C', 'D'), ('E', 'D'), ('F', 'D'), ('G', 'D'), ('H', 'E'), ('Z', 'C')]\n",
      "Number of each node:\n",
      "[\"Page ['A', 'B', 'C', 'D', 'E', 'F', 'G', 'H', 'Z'] = 9\"]\n",
      "[\"Page ['A', 'B', 'C', 'D', 'E', 'F', 'G', 'H', 'Z'] = 9\"]\n",
      "[\"Page ['A', 'B', 'C', 'D', 'E', 'F', 'G', 'H', 'Z'] = 9\"]\n",
      "[\"Page ['A', 'B', 'C', 'D', 'E', 'F', 'G', 'H', 'Z'] = 9\"]\n",
      "[\"Page ['A', 'B', 'C', 'D', 'E', 'F', 'G', 'H', 'Z'] = 9\"]\n",
      "[\"Page ['A', 'B', 'C', 'D', 'E', 'F', 'G', 'H', 'Z'] = 9\"]\n",
      "[\"Page ['A', 'B', 'C', 'D', 'E', 'F', 'G', 'H', 'Z'] = 9\"]\n",
      "[\"Page ['A', 'B', 'C', 'D', 'E', 'F', 'G', 'H', 'Z'] = 9\"]\n",
      "[\"Page ['A', 'B', 'C', 'D', 'E', 'F', 'G', 'H', 'Z'] = 9\"]\n"
     ]
    }
   ],
   "source": [
    "dataframe.add_edges_from([('A','B'), ('A','D'),('B','D'), ('C','D'),('E','D'),('F','D'),('G','D'),('H','E'),('Z','C')])\n",
    "print(\"Nodes of graph: \")\n",
    "print(dataframe.nodes())\n",
    "print(\"Edges of graph: \")\n",
    "print(dataframe.edges())\n",
    "\n",
    "print(\"Number of each node:\")\n",
    "for page in PageRank:\n",
    "    print([\"Page %s = %s\"% (PageRank,str(len(dataframe.out_edges(PageRank))))])"
   ]
  },
  {
   "cell_type": "code",
   "execution_count": 10,
   "id": "cdb8723a",
   "metadata": {},
   "outputs": [],
   "source": [
    "dataframe.add_weighted_edges_from([('A','B',1),('B','D',1),('A','D',1),('C','D',1),('E','D',1),('F','D',1),('G','D',1),('H','E',1),('Z','C',1)])"
   ]
  },
  {
   "cell_type": "code",
   "execution_count": 11,
   "id": "0cfcabda",
   "metadata": {},
   "outputs": [
    {
     "name": "stdout",
     "output_type": "stream",
     "text": [
      "{'A': 0.05679803107017443, 'B': 0.08093736912035987, 'C': 0.10507670717054529, 'D': 0.4249190611876773, 'E': 0.10507670717054529, 'F': 0.05679803107017443, 'G': 0.05679803107017443, 'H': 0.05679803107017443, 'Z': 0.05679803107017443}\n"
     ]
    }
   ],
   "source": [
    "print(nx.pagerank(dataframe))"
   ]
  },
  {
   "cell_type": "code",
   "execution_count": null,
   "id": "0d91daf2",
   "metadata": {},
   "outputs": [],
   "source": []
  },
  {
   "cell_type": "code",
   "execution_count": null,
   "id": "9c6063af",
   "metadata": {},
   "outputs": [],
   "source": []
  }
 ],
 "metadata": {
  "kernelspec": {
   "display_name": "Python 3.10.5 64-bit",
   "language": "python",
   "name": "python3"
  },
  "language_info": {
   "codemirror_mode": {
    "name": "ipython",
    "version": 3
   },
   "file_extension": ".py",
   "mimetype": "text/x-python",
   "name": "python",
   "nbconvert_exporter": "python",
   "pygments_lexer": "ipython3",
   "version": "3.10.5"
  },
  "vscode": {
   "interpreter": {
    "hash": "aee8b7b246df8f9039afb4144a1f6fd8d2ca17a180786b69acc140d282b71a49"
   }
  }
 },
 "nbformat": 4,
 "nbformat_minor": 5
}
